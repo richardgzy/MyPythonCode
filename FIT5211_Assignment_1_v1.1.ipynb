{
 "cells": [
  {
   "cell_type": "markdown",
   "metadata": {},
   "source": [
    "# Instructions\n",
    "* You must work on this assignment individually.\n",
    "* This assignment contributes 20% towards your mark in FIT5211.\n",
    "* The subjects are computational complexity, recursion, divide-and-conquer and search.\n",
    "* The exercises are given by increasing difficulty. Obtaining a 110% mark may be hard and will probably take a few hours.\n",
    "* The expected deliverable is this Jupyter Notebook, completed with your answers.\n",
    "* For questions on this assigment, please use the Moodle forum http://moodle.vle.monash.edu/mod/forum/view.php?id=3856505.\n",
    "* It is a university requirement (http://www.monash.edu/__data/assets/pdf_file/0008/801845/Student-Academic-Integrity_Managing-Plagiarism-and-Collusion-Procedures.pdf) to submit a coversheet (http://www.infotech.monash.edu.au/resources/student/forms/) for each assessment item. \n",
    "* The deadline is April 21, 23:59 via turnit-in: http://moodle.vle.monash.edu/mod/turnitintooltwo/view.php?id=3967694. There are two tabs: one for the Jupyter Notebook, one for the Coversheet (please upload a pdf). If this does not work, and only in this case, send your Notebook and coversheet to pierre.lebodic@monash.edu.\n",
    "* The late penalty is 10 marks (starting from 100) per late day."
   ]
  },
  {
   "cell_type": "markdown",
   "metadata": {},
   "source": [
    "# Exercice 1: Simple algorithm analysis (15%)"
   ]
  },
  {
   "cell_type": "markdown",
   "metadata": {},
   "source": [
    "Consider the following function in Python, where n is a positive integer."
   ]
  },
  {
   "cell_type": "code",
   "execution_count": null,
   "metadata": {
    "collapsed": false
   },
   "outputs": [],
   "source": [
    "def e_approx(n, i=1):\n",
    "    if i == n:\n",
    "        return 1 + 1/n\n",
    "    else:\n",
    "        return 1 + e_approx(n , i + 1)/i"
   ]
  },
  {
   "cell_type": "markdown",
   "metadata": {},
   "source": [
    "## Question 1 (10%)\n",
    "What is the $O()$ complexity of this function? Justify your answer."
   ]
  },
  {
   "cell_type": "markdown",
   "metadata": {},
   "source": [
    "(type your answer here)"
   ]
  },
  {
   "cell_type": "markdown",
   "metadata": {},
   "source": [
    "## Question 2 (5%)\n",
    "What does this function compute? (hint: it’s related to a mathematical constant)."
   ]
  },
  {
   "cell_type": "markdown",
   "metadata": {},
   "source": [
    "(type your answer here)"
   ]
  },
  {
   "cell_type": "markdown",
   "metadata": {},
   "source": [
    "# Exercise 2: Algorithms comparison (25%)"
   ]
  },
  {
   "cell_type": "markdown",
   "metadata": {},
   "source": [
    "Suppose you must choose one of the three algorithms:\n",
    "* Algorithm A solves problems of size $n$ by dividing them into 5 subproblems of size $n/2$, recursively solving each\n",
    "problem, and then combining solutions in $O(n)$ time.\n",
    "* Algorithm B solves problems of size $n$ by dividing them into 2 subproblems of size $n − 1$, recursively solving each\n",
    "problem, and then combining solutions in $O(1)$ time.\n",
    "* Algorithm C solves problems of size $n$ by dividing them into 9 subproblems of size $n/3$, recursively solving each\n",
    "problem, and then combining solutions in $O(n^2)$ time."
   ]
  },
  {
   "cell_type": "markdown",
   "metadata": {},
   "source": [
    "## Question 1 (15%)\n",
    "What is the running time of each algorithm in $O()$ notation? (You may use the master theorem)."
   ]
  },
  {
   "cell_type": "markdown",
   "metadata": {},
   "source": [
    "(type your answer here)"
   ]
  },
  {
   "cell_type": "markdown",
   "metadata": {},
   "source": [
    "## Question 2 (10%)\n",
    "Which algorithm has the best asymptotic running time?"
   ]
  },
  {
   "cell_type": "markdown",
   "metadata": {},
   "source": [
    "(type your answer here)"
   ]
  },
  {
   "cell_type": "markdown",
   "metadata": {},
   "source": [
    "# Exercise 3: Maximising subset (35%)"
   ]
  },
  {
   "cell_type": "markdown",
   "metadata": {},
   "source": [
    "Given a list $L = [x_1, \\dots, x_n]$ of $n$ integers, we are interested in sublists $S$ of $L$ that satisfy\n",
    "* for all $i \\in \\{1, \\dots, n-1\\}, x_i \\in S$ implies $x_{i+1} \\not\\in S$,\n",
    "* for all $i \\in \\{2, \\dots, n\\}, x_i \\in S$ implies $x_{i-1} \\not\\in S$."
   ]
  },
  {
   "cell_type": "markdown",
   "metadata": {},
   "source": [
    "NB (v1.1): for the sake of simplicity, suppose that the input list $L$ does not contain repeated values, i.e. $\\forall i, j \\in \\{1, \\dots, n\\}, i \\neq j, x_i \\neq x_j$. The example $L$ below has been changed to reflect this change."
   ]
  },
  {
   "cell_type": "markdown",
   "metadata": {},
   "source": [
    "## Question 1 (20%)\n",
    "Write a divide-and-conquer program that outputs a sublist $S$ that maximises $\\sum_{x \\in S} x$, the sum of its elements.\n",
    "For instance, if "
   ]
  },
  {
   "cell_type": "code",
   "execution_count": null,
   "metadata": {
    "collapsed": true
   },
   "outputs": [],
   "source": [
    "L = [1, 0, 5, 3, 2, 7, 9, 15, 6, 4, 13]"
   ]
  },
  {
   "cell_type": "markdown",
   "metadata": {},
   "source": [
    "then a sublist with maximum sum is"
   ]
  },
  {
   "cell_type": "code",
   "execution_count": null,
   "metadata": {
    "collapsed": true
   },
   "outputs": [],
   "source": [
    " S = [1, 5, 7, 15, 13]"
   ]
  },
  {
   "cell_type": "markdown",
   "metadata": {},
   "source": [
    "Write the function below using <em>exactly</em> this prototype:"
   ]
  },
  {
   "cell_type": "code",
   "execution_count": null,
   "metadata": {
    "collapsed": false
   },
   "outputs": [],
   "source": [
    "def bestsubset(l):\n",
    "    sublist = []\n",
    "    #..............\n",
    "    return sublist"
   ]
  },
  {
   "cell_type": "markdown",
   "metadata": {},
   "source": [
    "Test your code below:"
   ]
  },
  {
   "cell_type": "code",
   "execution_count": null,
   "metadata": {
    "collapsed": true
   },
   "outputs": [],
   "source": [
    "assert sum(bestsubset([])) == 0"
   ]
  },
  {
   "cell_type": "code",
   "execution_count": null,
   "metadata": {
    "collapsed": false
   },
   "outputs": [],
   "source": [
    "assert sum(bestsubset([5])) == 5"
   ]
  },
  {
   "cell_type": "code",
   "execution_count": null,
   "metadata": {
    "collapsed": false
   },
   "outputs": [],
   "source": [
    "assert sum(bestsubset([5, 2])) == 5"
   ]
  },
  {
   "cell_type": "code",
   "execution_count": null,
   "metadata": {
    "collapsed": true
   },
   "outputs": [],
   "source": [
    "assert sum(bestsubset([5, 2, 8])) == 5 + 8"
   ]
  },
  {
   "cell_type": "code",
   "execution_count": null,
   "metadata": {
    "collapsed": true
   },
   "outputs": [],
   "source": [
    "assert sum(bestsubset([5, 2, 1, 8])) == 5 + 8"
   ]
  },
  {
   "cell_type": "code",
   "execution_count": null,
   "metadata": {
    "collapsed": false
   },
   "outputs": [],
   "source": [
    "assert sum(bestsubset([5, 2, 1, 8, 10])) == 5 + 1 +10"
   ]
  },
  {
   "cell_type": "code",
   "execution_count": null,
   "metadata": {
    "collapsed": false
   },
   "outputs": [],
   "source": [
    "assert sum(bestsubset(L)) == sum(S) == 41"
   ]
  },
  {
   "cell_type": "markdown",
   "metadata": {},
   "source": [
    "v1.1: the two assertions below (as well as the original L) have been changed to take into account the additional constraint that input lists should not have repeated values."
   ]
  },
  {
   "cell_type": "code",
   "execution_count": null,
   "metadata": {
    "collapsed": false
   },
   "outputs": [],
   "source": [
    "assert sum(bestsubset([max(L) + 1 + i for i in L] + L)) == 172"
   ]
  },
  {
   "cell_type": "code",
   "execution_count": null,
   "metadata": {
    "collapsed": true
   },
   "outputs": [],
   "source": [
    "assert sum(bestsubset([max(L) + 1 + i for i in L] + L + [2*(max(L) + 1) + i for i in L])) == 391"
   ]
  },
  {
   "cell_type": "markdown",
   "metadata": {},
   "source": [
    "## Question 2 (5%)\n",
    "Give the $O()$ complexity of the function you wrote."
   ]
  },
  {
   "cell_type": "markdown",
   "metadata": {},
   "source": [
    "(type your answer here)"
   ]
  },
  {
   "cell_type": "markdown",
   "metadata": {},
   "source": [
    "## Question 3 (10%)\n",
    "Is there an algorithm that does not use the divide-and-conquer paradigm to answer Question 1 and that has a better $O()$ complexity? Prove your answer."
   ]
  },
  {
   "cell_type": "markdown",
   "metadata": {},
   "source": [
    "(type your answer here)"
   ]
  },
  {
   "cell_type": "markdown",
   "metadata": {},
   "source": [
    "# Exercise 4: Search for a pair of integers in a list (35%)"
   ]
  },
  {
   "cell_type": "markdown",
   "metadata": {},
   "source": [
    "You are given a list $L = [(a_1, b_1), \\dots, (a_n, b_n)]$ of $n$ pairs of integers.\n",
    "For any two pairs $(a_i, b_i) \\in L$ and $(a_j, b_j) \\in L$ such that $1\\leq i \\leq j \\leq n$, we have (at least) one of three cases:\n",
    "* $a_i = a_j$ and $b_i = b_j$\n",
    "* $a_i < a_j$\n",
    "* $b_i < b_j$\n",
    "For example, the list $L=[(1, 2), (1, 1)]$ would not be valid.\n",
    "An example of a valid list is"
   ]
  },
  {
   "cell_type": "code",
   "execution_count": null,
   "metadata": {
    "collapsed": true
   },
   "outputs": [],
   "source": [
    "L = [(0,1), (1, 0), (0, 1), (1, 1), (1, 2), (3, 1), (3, 1), (2, 2), (2, 3), (3, 2), (2, 3), (4, 3), (3, 4), (4, 4), (4, 5), (5, 5)]"
   ]
  },
  {
   "cell_type": "markdown",
   "metadata": {},
   "source": [
    "which you can use in your experiments.\n",
    "\n",
    "Suppose I know the middle pair $(a, b)$ of the non-empty list $L$, and I am looking for the pair $(x, y)$."
   ]
  },
  {
   "cell_type": "markdown",
   "metadata": {},
   "source": [
    "## Question 1 (5%):\n",
    "In what case(s), if any, can I stop the search?"
   ]
  },
  {
   "cell_type": "markdown",
   "metadata": {},
   "source": [
    "(type your answer here)"
   ]
  },
  {
   "cell_type": "markdown",
   "metadata": {},
   "source": [
    "## Question 2 (5%):\n",
    "In what case(s), if any, can I determine that $(x, y)$ cannot be found in some part of $L$? Can this speed-up the search?"
   ]
  },
  {
   "cell_type": "markdown",
   "metadata": {},
   "source": [
    "(type your answer here)"
   ]
  },
  {
   "cell_type": "markdown",
   "metadata": {},
   "source": [
    "## Question 3 (20%)\n",
    "Write a recursive function that applies the divide-and-conquer paradigm to search if a given pair of values $(x, y)$ is in $L$.\n",
    " The prototype of the function should be <em>exactly</em> as follows:"
   ]
  },
  {
   "cell_type": "code",
   "execution_count": null,
   "metadata": {
    "collapsed": false
   },
   "outputs": [],
   "source": [
    "def pair_search(l, p):\n",
    "    found = False\n",
    "    calls = 1\n",
    "    #............\n",
    "    return found, calls"
   ]
  },
  {
   "cell_type": "markdown",
   "metadata": {},
   "source": [
    "The function returns a boolean to indicate whether the pair $p$ was found in $l$, and an integer $calls$ to indicate the number of calls that were made to $pair\\_search$ to obtain the answer."
   ]
  },
  {
   "cell_type": "markdown",
   "metadata": {},
   "source": [
    "Test your function with the code below."
   ]
  },
  {
   "cell_type": "code",
   "execution_count": null,
   "metadata": {
    "collapsed": true
   },
   "outputs": [],
   "source": [
    "for item in L + [(0, 0), (2, 1), (3, 3), (5, 4)]:\n",
    "    found, calls = pair_search(L, item)\n",
    "    iteminl = item in L\n",
    "    assert found == iteminl, \"Found item {} {} time(s) instead of {}\".format(item, int(found), int(iteminl))\n",
    "    print(\"Found {} {} time(s) in {} calls\".format(item, int(iteminl), calls))"
   ]
  },
  {
   "cell_type": "markdown",
   "metadata": {},
   "source": [
    "## Question 4 (5%)\n",
    "What is the worst-case O() complexity of the function you wrote? Prove your answer."
   ]
  },
  {
   "cell_type": "markdown",
   "metadata": {},
   "source": [
    "(type your answer here)"
   ]
  }
 ],
 "metadata": {
  "kernelspec": {
   "display_name": "Python 3",
   "language": "python",
   "name": "python3"
  },
  "language_info": {
   "codemirror_mode": {
    "name": "ipython",
    "version": 3
   },
   "file_extension": ".py",
   "mimetype": "text/x-python",
   "name": "python",
   "nbconvert_exporter": "python",
   "pygments_lexer": "ipython3",
   "version": "3.6.0"
  }
 },
 "nbformat": 4,
 "nbformat_minor": 2
}
