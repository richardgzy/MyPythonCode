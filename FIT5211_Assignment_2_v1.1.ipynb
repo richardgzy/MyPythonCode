{
 "cells": [
  {
   "cell_type": "markdown",
   "metadata": {},
   "source": [
    "# Instructions\n",
    "* You must work on this assignment individually.\n",
    "* This assignment contributes 20% towards your mark in FIT5211.\n",
    "* The subjects are graphs and spanning trees.\n",
    "* The exercises are roughly given by increasing difficulty.\n",
    "* You may use functions defined in any part of the assignment if that helps. It is thus strongly recommended to first complete Question 1, in case some of those algorithms happen to be useful later on.\n",
    "* You may create auxiliary/helper functions for each question, as long as you use the pre-defined function.\n",
    "* For this assignment, the assertions have not been provided. We strongly recommend you build your own assertions and include them in the notebook you will submit.\n",
    "* All answers in free text format (e.g. Question 3.a) must be justified.\n",
    "* The expected deliverable is this Jupyter Notebook, completed with your answers.\n",
    "* For questions on this assigment, please use the Moodle forum http://moodle.vle.monash.edu/mod/forum/view.php?id=3856505.\n",
    "* It is a university requirement (http://www.monash.edu/__data/assets/pdf_file/0008/801845/Student-Academic-Integrity_Managing-Plagiarism-and-Collusion-Procedures.pdf) to submit a coversheet (http://www.infotech.monash.edu.au/resources/student/forms/) for each assessment item. \n",
    "* The deadline is May 26, 23:59 via turnit-in: http://moodle.vle.monash.edu/mod/turnitintooltwo/view.php?id=4034860. There are two tabs: one for the Jupyter Notebook, one for the Coversheet (please upload a pdf). If this does not work, and only in this case, send your Notebook and coversheet to pierre.lebodic@monash.edu.\n",
    "* The late penalty is 10 marks per late day."
   ]
  },
  {
   "cell_type": "markdown",
   "metadata": {},
   "source": [
    "Throughout the assignment (Questions 1 and 3) we will use the following function to generate adjacency matrices of random graphs, and a dictionary to encode a graph. We generate a random graph with $n$ vertices, and where each edge has a chance of being generated with probability $p$ and with random weights. Edges are stored in a dictionary called $G$.\n",
    "\n",
    "Note that for a given seed, the graph that will be generated should always be the same, hence you can use the seed for testing and debugging purposes. Also note that for a given seed, the graph may change depending on your Python environment and machine."
   ]
  },
  {
   "cell_type": "code",
   "execution_count": 5,
   "metadata": {
    "collapsed": true
   },
   "outputs": [],
   "source": [
    "maxedgeweight = 100"
   ]
  },
  {
   "cell_type": "markdown",
   "metadata": {},
   "source": [
    "NB (v1.1)"
   ]
  },
  {
   "cell_type": "code",
   "execution_count": 6,
   "metadata": {
    "collapsed": false
   },
   "outputs": [],
   "source": [
    "import random\n",
    "#Generates a graph as a dictionary, where \n",
    "#The graph will have $n$ vertices and each edge has a chance p of being generated (but we ensure that\n",
    "#we ensure that every vertex has at least an edge).\n",
    "#If the edge exists, a weight is uniformly generated in {1,..., maxedgeweight}\n",
    "def generateGraph(n, p, s):\n",
    "    random.seed(s)\n",
    "    G = {}\n",
    "    for i in range(0, n):\n",
    "        #we arbitrarily draw a vertex r different than i\n",
    "        #and add one edge between i and r, so that every vertex has an edge\n",
    "        r = (i + random.randint(1, n-1))%n\n",
    "        G[(min(i,r),max(i,r))] = random.randint(1, maxedgeweight)\n",
    "        for j in range(i+1, n):\n",
    "            if random.random() <= p and j != r:\n",
    "                G[(i,j)] = random.randint(1, maxedgeweight)\n",
    "    return G"
   ]
  },
  {
   "cell_type": "markdown",
   "metadata": {},
   "source": [
    "# Question 1: Simple Graph Operations [25 marks]"
   ]
  },
  {
   "cell_type": "markdown",
   "metadata": {},
   "source": [
    "## Question 1.a: Number of vertices [5 marks]"
   ]
  },
  {
   "cell_type": "markdown",
   "metadata": {},
   "source": [
    "#### Write a function that computes the number of vertices in $G$ (having only $G$ encoded as a dictionary at our disposal)"
   ]
  },
  {
   "cell_type": "code",
   "execution_count": null,
   "metadata": {
    "collapsed": false
   },
   "outputs": [],
   "source": [
    "def getN(G):\n",
    "    n = 0\n",
    "    #............\n",
    "    # the structure of G is {(from,to): weight}\n",
    "    for key in G:\n",
    "    if key[0] > n:\n",
    "        n = key[0]\n",
    "    if key[1] > n:\n",
    "        n = key[1]\n",
    "    n = n + 1\n",
    "    return n"
   ]
  },
  {
   "cell_type": "markdown",
   "metadata": {},
   "source": [
    "## Question 1.b: Graph printout [5 marks]"
   ]
  },
  {
   "cell_type": "markdown",
   "metadata": {},
   "source": [
    "#### Write a function that prints the (weighted) adjacency matrix of $G$, using a $0$ when no edge exists, and using the edge weight when an edge exists. Add an if statement at first to check that the graph is not too large for printing purposes."
   ]
  },
  {
   "cell_type": "code",
   "execution_count": null,
   "metadata": {
    "collapsed": false
   },
   "outputs": [],
   "source": [
    "def printGraph(G):\n",
    "    #............\n",
    "    v = getN(G)\n",
    "    matrix = [[]]*v\n",
    "\n",
    "    for i in range(v):\n",
    "        list = [0]*v\n",
    "        matrix[i] = list\n",
    "\n",
    "    for key in G:\n",
    "        matrix[key[0]][key[1]] = G[key]\n",
    "\n",
    "    return matrix"
   ]
  },
  {
   "cell_type": "markdown",
   "metadata": {},
   "source": [
    "## Question 1.c: Maximum Degree of a graph [5 marks]"
   ]
  },
  {
   "cell_type": "markdown",
   "metadata": {},
   "source": [
    "#### Write a function that computes the maximum degree of a vertex in $G$."
   ]
  },
  {
   "cell_type": "code",
   "execution_count": null,
   "metadata": {
    "collapsed": false
   },
   "outputs": [],
   "source": [
    "def maxDegree(G):\n",
    "    maxdegree = 0\n",
    "    #............\n",
    "    \n",
    "    return maxdegree"
   ]
  },
  {
   "cell_type": "markdown",
   "metadata": {},
   "source": [
    "#### In $O()$, what is the complexity of the algorithm you have written?"
   ]
  },
  {
   "cell_type": "markdown",
   "metadata": {},
   "source": [
    "(type your answer here)"
   ]
  },
  {
   "cell_type": "markdown",
   "metadata": {},
   "source": [
    "## Question 1.d: Connectivity [10 marks]"
   ]
  },
  {
   "cell_type": "markdown",
   "metadata": {},
   "source": [
    "#### Write a function that returns the number of connected components of a graph $G$."
   ]
  },
  {
   "cell_type": "code",
   "execution_count": null,
   "metadata": {
    "collapsed": true
   },
   "outputs": [],
   "source": [
    "def countComponents(G):\n",
    "    components = 0\n",
    "    #............\n",
    "    return components"
   ]
  },
  {
   "cell_type": "markdown",
   "metadata": {},
   "source": [
    "#### In $O()$, what is the complexity of the algorithm you have written?"
   ]
  },
  {
   "cell_type": "markdown",
   "metadata": {},
   "source": [
    "(type your answer here)"
   ]
  },
  {
   "cell_type": "markdown",
   "metadata": {},
   "source": [
    "# Question 2: Markovian Cowboys [35 marks]"
   ]
  },
  {
   "cell_type": "markdown",
   "metadata": {},
   "source": [
    "Three cowboys are having a gunfight and are ready to shoot each other. They all shoot simultaneously and repeatidly, by rounds, for as long as they have not been hit. For the purpose of this exercise, we suppose that ammunition is not limited and that this truel can only end when one or zero cowboy is left standing. They are not equally gifted with a six-shooter (but in our case, it really is a $\\infty$-shooter), and they are not at equal distance, thus their chances of hitting each other are not equal:\n",
    "\n",
    "* Cowboy A has probabilty $p_{AB}=.35$ of hitting cowboy B and $p_{AC}=.30$ of hitting cowboy C.\n",
    "* Cowboy B has probabilty $p_{BA}=.25$ of hitting cowboy A and $p_{BC}=.15$ of hitting cowboy C.\n",
    "* Cowboy C has probabilty $p_{CA}=.10$ of hitting cowboy A and $p_{CB}=.20$ of hitting cowboy B.\n",
    "\n",
    "While the three cowboys are still standing, each one of then will try to shoot the cowboy that has the highest probability of hitting them, therefore:\n",
    "\n",
    "* A will shoot at B until one of the two falls.\n",
    "* B will shoot at A until one of the two falls.\n",
    "* C will shoot at A until one of the two falls.\n",
    "\n",
    "Note that since C is not very dangerous, nobody bothers shooting at him first.\n",
    "If after a round of shooting, two cowboys remain, they shoot at each other unconditionally (and mercilessly).\n",
    "Since the cowboys all shoot once during a round, it is possible that 1 or 2 cowboys get hit simultaneously. Thus it is possible that no one remains at the end of the truel.\n",
    "\n",
    "We would like to determine numerically the probabilities of winning the gunfight for each cowboy, as well as the probability that no one wins. The possible states of the truel are:\n",
    "\n",
    "* State $S_0$: A, B and C are standing (and shooting each other, therefore the gunfight is ongoing).\n",
    "* State $S_1$: A and B are standing (and shooting each other, therefore the gunfight is ongoing).\n",
    "* State $S_2$: A and C are standing (and shooting each other, therefore the gunfight is ongoing).\n",
    "* State $S_3$: B and C are standing (and shooting each other, therefore the gunfight is ongoing).\n",
    "* State $S_4$: A only is standing (therefore the gunfight is over).\n",
    "* State $S_5$: B only is standing (therefore the gunfight is over).\n",
    "* State $S_6$: C only is standing (therefore the gunfight is over).\n",
    "* State $S_7$: nobody is standing (therefore the gunfight is over)."
   ]
  },
  {
   "cell_type": "markdown",
   "metadata": {},
   "source": [
    "## Question 2.a: Transition graph between states. [5 marks]"
   ]
  },
  {
   "cell_type": "markdown",
   "metadata": {},
   "source": [
    "We would like to create a directed graph to represent the possible transitions between states. In this graph, vertices will represent states, and arcs will represent possible transitions between states. For example, there is an arc between $S_0$ and $S_2$, which corresponds to the case where $B$ gets shot, and no one else gets shot during the same round. There also is an arc from $S_0$ to itself, as it is possible that for a round or more, everyone misses. However, there is no arc from $S_0$ to $S_1$, as it is not possible for C to get shot at state $S_0$ since no one is shooting at him at this point."
   ]
  },
  {
   "cell_type": "markdown",
   "metadata": {},
   "source": [
    "#### Give the transition graph in the following format to indicate which transitions are possible (and thus $S_0 -> S_1$ should not appear in this list as it is not a possible transition)."
   ]
  },
  {
   "cell_type": "markdown",
   "metadata": {},
   "source": [
    "$S_0$ -> $S_0$\n",
    "$S_0$ -> $S_2$\n",
    "$S_0$ -> $S_3$\n",
    "$S_0$ -> $S_6$\n",
    "\n",
    "$S_2$ -> $S_2$\n",
    "$S_2$ -> $S_4$\n",
    "$S_2$ -> $S_6$\n",
    "$S_2$ -> $S_7$\n",
    "\n",
    "$S_3$ -> $S_3$\n",
    "$S_3$ -> $S_5$\n",
    "$S_3$ -> $S_6$\n",
    "$S_3$ -> $S_7$\n"
   ]
  },
  {
   "cell_type": "markdown",
   "metadata": {},
   "source": [
    "#### By reading this graph, how can one determine for which states the gunfight is over?"
   ]
  },
  {
   "cell_type": "markdown",
   "metadata": {},
   "source": [
    "As long as any path reach the state of $S_4$ or $S_5$ or $S_6$ or $S_7$, the gunfight is over."
   ]
  },
  {
   "cell_type": "markdown",
   "metadata": {},
   "source": [
    "## Question 2.b: Probabilities of transition [5 marks]"
   ]
  },
  {
   "cell_type": "markdown",
   "metadata": {},
   "source": [
    "#### After answering question 2.a, we are now interested in the probabilities that the gunfight will move from one state to another. Copy the list of arcs you have found at question 2.a and indicate on the side the value of this probability."
   ]
  },
  {
   "cell_type": "markdown",
   "metadata": {},
   "source": [
    "Edges start from $S_0$:\n",
    "\n",
    "$S_0$ -> $S_0$ $p_{00}$= (1 - p_{AB}) * (1 - p_{BA}) * (1 - p_{CA}) = .65 * .75 * .9 = 0.43875$\n",
    "\n",
    "$S_0$ -> $S_2$ $p_{02}$= (p_{AB}) * (1 - p_{BA}) * (1 - p_{CA}) = .35 * .75 * .9 = 0.23625$\n",
    "\n",
    "$S_0$ -> $S_3$ $p_{03}$= (1 - p_{AB}) * (p_{BA}) * (1 - p_{CA}) + (1 - p_{AB}) * (1 - p_{BA}) * (p_{CA}) + (1 - p_{AB}) * (p_{BA}) * (p_{CA}) = .65 * .25 * .9 + .65 * .75 * .1 + .65 * .25 * .1= 0.21125$\n",
    "\n",
    "$S_0$ -> $S_6$ $p_{04}$= (p_{AB}) * (p_{BA}) * (1 - p_{CA}) + (p_{AB}) * (1 - p_{BA}) * (p_{CA}) + (p_{AB}) * (p_{BA}) * (p_{CA})= .35 * .25 * .9 + .35 * .75 * .1 + .35 * .25 * .1= 0.11375$\n",
    "\n",
    "\n",
    "\n",
    "Edges start from $S_2$:\n",
    "\n",
    "$S_2$ -> $S_2$ $p_{22}$= (1 - p_{AC}) * (1 - p_{CA})= .7 * .9= 0.63$\n",
    "$S_2$ -> $S_4$ $p_{24}$= (p_{AC}) * (1 - p_{CA})= .3 * .9= 0.27$\n",
    "$S_2$ -> $S_6$ $p_{26}$= (1 - p_{AC}) * (p_{CA})= .7 * .1= 0.07$\n",
    "$S_2$ -> $S_7$ $p_{27}$= (p_{AC}) * (p_{CA})= .3 * .1= 0.03$\n",
    "\n",
    "\n",
    "Edges start from $S_3$:\n",
    "\n",
    "$S_3$ -> $S_3$ $p_{33}$= (1 - p_{AC}) * (1 - p_{CA})= .85 * .8= 0.68$\n",
    "$S_3$ -> $S_5$ $p_{14}$= (p_{BC}) * (1 - p_{CB})= .15 * .8= 0.12$\n",
    "$S_3$ -> $S_6$ $p_{15}$= (1 - p_{BC}) * (p_{CB})= .85 * .2= 0.17$\n",
    "$S_3$ -> $S_7$ $p_{17}$= (p_{BC}) * (p_{CB})= .15 * .2= 0.03$"
   ]
  },
  {
   "cell_type": "markdown",
   "metadata": {},
   "source": [
    "(Hence the probability to stay at state $S_0$ for the ongoing round is $p_{00} = 0.43875$.)"
   ]
  },
  {
   "cell_type": "markdown",
   "metadata": {},
   "source": [
    "## Question 2.c: Input of the graph [5 marks]"
   ]
  },
  {
   "cell_type": "markdown",
   "metadata": {},
   "source": [
    "#### Create a graph $G$ in a format of your choosing to encode the transition graph representing the gunfight."
   ]
  },
  {
   "cell_type": "code",
   "execution_count": null,
   "metadata": {
    "collapsed": true
   },
   "outputs": [],
   "source": [
    "G = {(0,0):0.43875, (0,2):0.23625, (0,3):0.21125, (0,6):0.11375, (2,2):0.63, (2,4):0.27, (2,6):0.07, (2,7):0.03, (3,3):0.68, (3,5):0.12, (3,6):0.17, (3,7):0.03}"
   ]
  },
  {
   "cell_type": "markdown",
   "metadata": {},
   "source": [
    "If you have not answered question 2.b, you can use random or arbitrary values for the transition probabilities without losing any points for question 2.c and below. However, make sure that the sum of the transition probabilities from each non-final state is equal to 1."
   ]
  },
  {
   "cell_type": "markdown",
   "metadata": {},
   "source": [
    "## Question 2.d: Gunfight Simulation [10 marks]"
   ]
  },
  {
   "cell_type": "markdown",
   "metadata": {},
   "source": [
    "#### Write a function that simulates one gunfight, i.e. a succession of rounds that ends when the current state is one of the final states, $S_4$, $S_5$, $S_6$ or $S_7$. Return the final state/vertex."
   ]
  },
  {
   "cell_type": "code",
   "execution_count": null,
   "metadata": {
    "collapsed": false
   },
   "outputs": [],
   "source": [
    "def gunfightSimulation(G):"
   ]
  },
  {
   "cell_type": "markdown",
   "metadata": {},
   "source": [
    "## Question 2.e: Endless Gunfights [5 marks]"
   ]
  },
  {
   "cell_type": "markdown",
   "metadata": {},
   "source": [
    "#### Now that we can simulate a gunfight (question 2.d), we would like to know with precision what are the probabilities of each possible outcome of the gunfight. Write an iterative loop that computes the probabilities of the possible final states by calling the function gunfightSimulation for a sufficient number of simulations, until the precision of the probabilities is satisfactory. You can also try to answer this question if you have not answered 2.d."
   ]
  },
  {
   "cell_type": "code",
   "execution_count": null,
   "metadata": {
    "collapsed": false
   },
   "outputs": [],
   "source": [
    "def displayFinalStateProbabilities(G, samples):\n",
    "    #.........................................."
   ]
  },
  {
   "cell_type": "markdown",
   "metadata": {},
   "source": [
    "#### How many samples did you find were necessary in question 2.d to obtain a good precision?"
   ]
  },
  {
   "cell_type": "markdown",
   "metadata": {},
   "source": [
    "(type your answer here)"
   ]
  },
  {
   "cell_type": "markdown",
   "metadata": {},
   "source": [
    "## Question 2.f: Simplification of $G$ [5 marks]"
   ]
  },
  {
   "cell_type": "markdown",
   "metadata": {},
   "source": [
    "#### Propose a simplification of the graph $G$ that allows a speed-up of 2.d (and thus 2.e), and such that the probability to end at each final state is unchaged."
   ]
  },
  {
   "cell_type": "markdown",
   "metadata": {},
   "source": [
    "(type your answer here)"
   ]
  },
  {
   "cell_type": "markdown",
   "metadata": {},
   "source": [
    "# Question 3: Minimum-Cost Spanning Tree with Bounded Degree (MCSTBD) [40 marks]"
   ]
  },
  {
   "cell_type": "markdown",
   "metadata": {},
   "source": [
    "An MCST with bounded degree $k$ is a minimum-cost spanning tree such that no vertex of the tree has degree $> k$, for some given $k$ that satisfies $n>k>0$. See https://en.wikipedia.org/wiki/Degree-constrained_spanning_tree."
   ]
  },
  {
   "cell_type": "markdown",
   "metadata": {},
   "source": [
    "## Question 3.a: Applicability of the algorithms that work for MCST [5 marks]"
   ]
  },
  {
   "cell_type": "markdown",
   "metadata": {},
   "source": [
    "#### If we ran an algorithm for MCST and obtained a solution (which would be optimal), under what condition(s) would this solution be feasible (i.e. acceptable) for MCSTBD?"
   ]
  },
  {
   "cell_type": "markdown",
   "metadata": {},
   "source": [
    "(type your answer here)"
   ]
  },
  {
   "cell_type": "markdown",
   "metadata": {},
   "source": [
    "#### If an optimal solution to MCST was feasible for MCSTBD, would it also be optimal for MCSTBD?"
   ]
  },
  {
   "cell_type": "markdown",
   "metadata": {},
   "source": [
    "(type your answer here)"
   ]
  },
  {
   "cell_type": "markdown",
   "metadata": {},
   "source": [
    "#### If an optimal solution to MCST was not feasible for MCSTBD, what could its weight (i.e. value) tell us about the weight of any feasible solution for MCSTBD?"
   ]
  },
  {
   "cell_type": "markdown",
   "metadata": {},
   "source": [
    "(type your answer here)"
   ]
  },
  {
   "cell_type": "markdown",
   "metadata": {},
   "source": [
    "## Question 3.b: Any algorithm for MCST [10 marks]"
   ]
  },
  {
   "cell_type": "markdown",
   "metadata": {},
   "source": [
    "#### Choose an algorithm (e.g., but not limited to, Prim or Kruskal), that solves MCST, and implement it. We will want this algorithm to be as fast as possible, thus you are allowed to also define and use a data structure that is different than the dictionary data structure given above. However, you must be able to read a dictionary and convert it into your own data structure. "
   ]
  },
  {
   "cell_type": "code",
   "execution_count": null,
   "metadata": {
    "collapsed": false
   },
   "outputs": [],
   "source": [
    "def solveMCST(G):\n",
    "    #............"
   ]
  },
  {
   "cell_type": "markdown",
   "metadata": {},
   "source": [
    "## Question 3.c: Divide-and-Conquer for MCSTBD [15 marks]"
   ]
  },
  {
   "cell_type": "markdown",
   "metadata": {},
   "source": [
    "#### Write a divide-and-conquer algorithm that solves MCSTBD to optimality. At each recursive call, call the function solveMCST to obtain an MCST, which will help decide if and how to further recurse. Check if the MCST given by solveMCST is a valid solution to MCSTBD. If so, this is the base case, and there is no need to further recurse. Otherwise, choose a vertex $v$ such that $degree(v) > k$ in the MCST solution. For each edge $e$ incident to $v$ and currently in the MCST solution, make a recursive call where this edge cannot be selected to be part of a spanning tree (how to handle and store this information is for you to decide)."
   ]
  },
  {
   "cell_type": "code",
   "execution_count": null,
   "metadata": {
    "collapsed": false
   },
   "outputs": [],
   "source": [
    "def solveMCSTBD(G, ...):\n",
    "    #............"
   ]
  },
  {
   "cell_type": "markdown",
   "metadata": {},
   "source": [
    "#### In $O()$, what is the complexity of the algorithm you have written?"
   ]
  },
  {
   "cell_type": "markdown",
   "metadata": {},
   "source": [
    "(type your answer here)"
   ]
  },
  {
   "cell_type": "markdown",
   "metadata": {},
   "source": [
    "#### What is the maximum size $n$ of the graph for which your procedure can terminate within ~5 seconds for $p=.2$ (the probability for each edge to be generated) and $k=5$?"
   ]
  },
  {
   "cell_type": "markdown",
   "metadata": {},
   "source": [
    "(type your answer here)"
   ]
  },
  {
   "cell_type": "markdown",
   "metadata": {},
   "source": [
    "## Question 3.d: Improved Divide-and-Conquer for MCSTBD [10 marks]"
   ]
  },
  {
   "cell_type": "markdown",
   "metadata": {},
   "source": [
    "#### Describe how the weight of the tree found by solveMCST could be of use to a divide-and-conquer algorithm for MCSTBD."
   ]
  },
  {
   "cell_type": "markdown",
   "metadata": {},
   "source": [
    "(type your answer here)"
   ]
  },
  {
   "cell_type": "markdown",
   "metadata": {},
   "source": [
    "#### Implement this idea below."
   ]
  },
  {
   "cell_type": "code",
   "execution_count": null,
   "metadata": {
    "collapsed": false
   },
   "outputs": [],
   "source": [
    "def improvedSolveMCSTBD(G, ...):\n",
    "    #............"
   ]
  },
  {
   "cell_type": "markdown",
   "metadata": {},
   "source": [
    "#### In $O()$, what is the complexity of the algorithm you have written?"
   ]
  },
  {
   "cell_type": "markdown",
   "metadata": {},
   "source": [
    "(type your answer here)"
   ]
  },
  {
   "cell_type": "markdown",
   "metadata": {},
   "source": [
    "#### What is the maximum size $n$ of the graph for which your procedure can terminate within ~5 seconds for $p=.2$ and $k=5$?"
   ]
  },
  {
   "cell_type": "markdown",
   "metadata": {},
   "source": [
    "(type your answer here)"
   ]
  }
 ],
 "metadata": {
  "kernelspec": {
   "display_name": "Python 3",
   "language": "python",
   "name": "python3"
  },
  "language_info": {
   "codemirror_mode": {
    "name": "ipython",
    "version": 3
   },
   "file_extension": ".py",
   "mimetype": "text/x-python",
   "name": "python",
   "nbconvert_exporter": "python",
   "pygments_lexer": "ipython3",
   "version": "3.6.0"
  }
 },
 "nbformat": 4,
 "nbformat_minor": 2
}
